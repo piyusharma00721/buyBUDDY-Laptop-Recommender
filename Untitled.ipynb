{
 "cells": [
  {
   "cell_type": "code",
   "execution_count": 2,
   "id": "1d9a1ae6-5955-4aea-9c12-5d20ee7eb682",
   "metadata": {},
   "outputs": [],
   "source": [
    "import pandas as pd"
   ]
  },
  {
   "cell_type": "code",
   "execution_count": 3,
   "id": "7d8d421e-c62f-452e-a003-4b9362242a4b",
   "metadata": {},
   "outputs": [],
   "source": [
    "df = pd.read_csv('laptop_specifications.csv')"
   ]
  },
  {
   "cell_type": "code",
   "execution_count": 4,
   "id": "f4070925-1561-41a7-ad3f-ce68b99d8032",
   "metadata": {},
   "outputs": [
    {
     "data": {
      "text/html": [
       "<div>\n",
       "<style scoped>\n",
       "    .dataframe tbody tr th:only-of-type {\n",
       "        vertical-align: middle;\n",
       "    }\n",
       "\n",
       "    .dataframe tbody tr th {\n",
       "        vertical-align: top;\n",
       "    }\n",
       "\n",
       "    .dataframe thead th {\n",
       "        text-align: right;\n",
       "    }\n",
       "</style>\n",
       "<table border=\"1\" class=\"dataframe\">\n",
       "  <thead>\n",
       "    <tr style=\"text-align: right;\">\n",
       "      <th></th>\n",
       "      <th>laptop name</th>\n",
       "      <th>GPU</th>\n",
       "      <th>Main Memory</th>\n",
       "      <th>Secondary Memory</th>\n",
       "      <th>Screen Dimension</th>\n",
       "      <th>Weight</th>\n",
       "    </tr>\n",
       "  </thead>\n",
       "  <tbody>\n",
       "    <tr>\n",
       "      <th>0</th>\n",
       "      <td>Lenovo ThinkPad X1 Extreme 16\" WQUXGA Intel Co...</td>\n",
       "      <td>Nvidia GeForce RTX 3080 Ti Laptop</td>\n",
       "      <td>64GB RAM</td>\n",
       "      <td>8TB SSD</td>\n",
       "      <td>16\"</td>\n",
       "      <td>1.88kg</td>\n",
       "    </tr>\n",
       "    <tr>\n",
       "      <th>1</th>\n",
       "      <td>Lenovo ThinkPad X1 Extreme 16\" WQUXGA Intel Co...</td>\n",
       "      <td>Nvidia GeForce RTX 3080 Ti Laptop</td>\n",
       "      <td>64GB RAM</td>\n",
       "      <td>4TB SSD</td>\n",
       "      <td>16\"</td>\n",
       "      <td>1.88kg</td>\n",
       "    </tr>\n",
       "    <tr>\n",
       "      <th>2</th>\n",
       "      <td>MSI Titan 18 HX A14VIG 18\" UHD Plus Intel Core...</td>\n",
       "      <td>Nvidia GeForce RTX 4090 Laptop</td>\n",
       "      <td>128GB RAM</td>\n",
       "      <td>2TB SSD + 2TB SSD</td>\n",
       "      <td>18\"</td>\n",
       "      <td>3.6kg</td>\n",
       "    </tr>\n",
       "    <tr>\n",
       "      <th>3</th>\n",
       "      <td>Lenovo Legion 9i Gen 8 16\" Intel Core i9-13980...</td>\n",
       "      <td>Nvidia GeForce RTX 4090 Laptop</td>\n",
       "      <td>64GB RAM</td>\n",
       "      <td>2TB SSD</td>\n",
       "      <td>16\"</td>\n",
       "      <td>2.55kg</td>\n",
       "    </tr>\n",
       "    <tr>\n",
       "      <th>4</th>\n",
       "      <td>Asus ROG Zephyrus Duo 16 (2023) 16\" QHD Plus A...</td>\n",
       "      <td>Nvidia GeForce RTX 4090 Laptop</td>\n",
       "      <td>64GB RAM</td>\n",
       "      <td>2TB SSD + 2TB SSD</td>\n",
       "      <td>16\"</td>\n",
       "      <td>2.67kg</td>\n",
       "    </tr>\n",
       "    <tr>\n",
       "      <th>...</th>\n",
       "      <td>...</td>\n",
       "      <td>...</td>\n",
       "      <td>...</td>\n",
       "      <td>...</td>\n",
       "      <td>...</td>\n",
       "      <td>...</td>\n",
       "    </tr>\n",
       "    <tr>\n",
       "      <th>1495</th>\n",
       "      <td>HP ProBook 255 G9 15.6\" AMD Ryzen 5 5625U 2.3GHz</td>\n",
       "      <td>8GB RAM</td>\n",
       "      <td>256GB SSD</td>\n",
       "      <td>NaN</td>\n",
       "      <td>15.6\"</td>\n",
       "      <td>1.74kg</td>\n",
       "    </tr>\n",
       "    <tr>\n",
       "      <th>1496</th>\n",
       "      <td>Asus TUF Gaming FX705DT 17.3\" AMD Ryzen 5 3550...</td>\n",
       "      <td>8GB RAM</td>\n",
       "      <td>512GB SSD</td>\n",
       "      <td>NaN</td>\n",
       "      <td>17.3\"</td>\n",
       "      <td>2.6kg</td>\n",
       "    </tr>\n",
       "    <tr>\n",
       "      <th>1497</th>\n",
       "      <td>Lenovo IdeaPad C340 15.6\" Intel Core i3-8145U ...</td>\n",
       "      <td>4GB RAM</td>\n",
       "      <td>128GB SSD + 1TB HDD</td>\n",
       "      <td>NaN</td>\n",
       "      <td>15.6\"</td>\n",
       "      <td>2kg</td>\n",
       "    </tr>\n",
       "    <tr>\n",
       "      <th>1498</th>\n",
       "      <td>Lenovo IdeaPad 1 15\" AMD Ryzen 5 7520U 2.8GHz</td>\n",
       "      <td>8GB RAM</td>\n",
       "      <td>256GB SSD</td>\n",
       "      <td>NaN</td>\n",
       "      <td>15.6\"</td>\n",
       "      <td>1.6kg</td>\n",
       "    </tr>\n",
       "    <tr>\n",
       "      <th>1499</th>\n",
       "      <td>Lenovo IdeaPad Slim 3 Gen 6 15.6\" AMD Ryzen 5 ...</td>\n",
       "      <td>8GB RAM</td>\n",
       "      <td>512GB SSD</td>\n",
       "      <td>NaN</td>\n",
       "      <td>15.6\"</td>\n",
       "      <td>1.7kg</td>\n",
       "    </tr>\n",
       "  </tbody>\n",
       "</table>\n",
       "<p>1500 rows × 6 columns</p>\n",
       "</div>"
      ],
      "text/plain": [
       "                                            laptop name  \\\n",
       "0     Lenovo ThinkPad X1 Extreme 16\" WQUXGA Intel Co...   \n",
       "1     Lenovo ThinkPad X1 Extreme 16\" WQUXGA Intel Co...   \n",
       "2     MSI Titan 18 HX A14VIG 18\" UHD Plus Intel Core...   \n",
       "3     Lenovo Legion 9i Gen 8 16\" Intel Core i9-13980...   \n",
       "4     Asus ROG Zephyrus Duo 16 (2023) 16\" QHD Plus A...   \n",
       "...                                                 ...   \n",
       "1495  HP ProBook 255 G9 15.6\" AMD Ryzen 5 5625U 2.3GHz    \n",
       "1496  Asus TUF Gaming FX705DT 17.3\" AMD Ryzen 5 3550...   \n",
       "1497  Lenovo IdeaPad C340 15.6\" Intel Core i3-8145U ...   \n",
       "1498     Lenovo IdeaPad 1 15\" AMD Ryzen 5 7520U 2.8GHz    \n",
       "1499  Lenovo IdeaPad Slim 3 Gen 6 15.6\" AMD Ryzen 5 ...   \n",
       "\n",
       "                                      GPU           Main Memory  \\\n",
       "0      Nvidia GeForce RTX 3080 Ti Laptop              64GB RAM    \n",
       "1      Nvidia GeForce RTX 3080 Ti Laptop              64GB RAM    \n",
       "2         Nvidia GeForce RTX 4090 Laptop             128GB RAM    \n",
       "3         Nvidia GeForce RTX 4090 Laptop              64GB RAM    \n",
       "4         Nvidia GeForce RTX 4090 Laptop              64GB RAM    \n",
       "...                                   ...                   ...   \n",
       "1495                             8GB RAM              256GB SSD   \n",
       "1496                             8GB RAM              512GB SSD   \n",
       "1497                             4GB RAM    128GB SSD + 1TB HDD   \n",
       "1498                             8GB RAM              256GB SSD   \n",
       "1499                             8GB RAM              512GB SSD   \n",
       "\n",
       "        Secondary Memory Screen Dimension  Weight  \n",
       "0                8TB SSD              16\"  1.88kg  \n",
       "1                4TB SSD              16\"  1.88kg  \n",
       "2      2TB SSD + 2TB SSD              18\"   3.6kg  \n",
       "3                2TB SSD              16\"  2.55kg  \n",
       "4      2TB SSD + 2TB SSD              16\"  2.67kg  \n",
       "...                  ...              ...     ...  \n",
       "1495                 NaN            15.6\"  1.74kg  \n",
       "1496                 NaN            17.3\"   2.6kg  \n",
       "1497                 NaN            15.6\"     2kg  \n",
       "1498                 NaN            15.6\"   1.6kg  \n",
       "1499                 NaN            15.6\"   1.7kg  \n",
       "\n",
       "[1500 rows x 6 columns]"
      ]
     },
     "execution_count": 4,
     "metadata": {},
     "output_type": "execute_result"
    }
   ],
   "source": [
    "df"
   ]
  },
  {
   "cell_type": "code",
   "execution_count": 5,
   "id": "dcc9bb81-ea2c-4ba5-800d-49135c9e71c5",
   "metadata": {},
   "outputs": [
    {
     "name": "stdout",
     "output_type": "stream",
     "text": [
      "<class 'pandas.core.frame.DataFrame'>\n",
      "RangeIndex: 1500 entries, 0 to 1499\n",
      "Data columns (total 6 columns):\n",
      " #   Column            Non-Null Count  Dtype \n",
      "---  ------            --------------  ----- \n",
      " 0   laptop name       1500 non-null   object\n",
      " 1   GPU               1486 non-null   object\n",
      " 2   Main Memory       1480 non-null   object\n",
      " 3   Secondary Memory  689 non-null    object\n",
      " 4   Screen Dimension  1500 non-null   object\n",
      " 5   Weight            1500 non-null   object\n",
      "dtypes: object(6)\n",
      "memory usage: 70.4+ KB\n"
     ]
    }
   ],
   "source": [
    "df.info()"
   ]
  },
  {
   "cell_type": "code",
   "execution_count": 6,
   "id": "19664abf-0747-41d5-b0df-a4f9bf63d4ed",
   "metadata": {},
   "outputs": [
    {
     "data": {
      "text/plain": [
       "laptop name          0.000000\n",
       "GPU                  0.933333\n",
       "Main Memory          1.333333\n",
       "Secondary Memory    54.066667\n",
       "Screen Dimension     0.000000\n",
       "Weight               0.000000\n",
       "dtype: float64"
      ]
     },
     "execution_count": 6,
     "metadata": {},
     "output_type": "execute_result"
    }
   ],
   "source": [
    "df.isnull().sum()/df.shape[0]*100"
   ]
  }
 ],
 "metadata": {
  "kernelspec": {
   "display_name": "Python 3 (ipykernel)",
   "language": "python",
   "name": "python3"
  },
  "language_info": {
   "codemirror_mode": {
    "name": "ipython",
    "version": 3
   },
   "file_extension": ".py",
   "mimetype": "text/x-python",
   "name": "python",
   "nbconvert_exporter": "python",
   "pygments_lexer": "ipython3",
   "version": "3.13.0"
  },
  "widgets": {
   "application/vnd.jupyter.widget-state+json": {
    "state": {},
    "version_major": 2,
    "version_minor": 0
   }
  }
 },
 "nbformat": 4,
 "nbformat_minor": 5
}
